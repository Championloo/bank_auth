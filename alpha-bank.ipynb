{
 "cells": [
  {
   "cell_type": "code",
   "execution_count": null,
   "metadata": {},
   "outputs": [],
   "source": [
    "import requests\n",
    "import urllib3\n",
    "urllib3.disable_warnings(urllib3.exceptions.InsecureRequestWarning)\n",
    "from bs4 import BeautifulSoup\n",
    "from pprint import pprint\n",
    "import re\n",
    "import pandas as pd\n",
    "import io\n",
    "\n",
    "# указать логин и пароль\n",
    "# запустить первые три блока, дождаться смс с кодом (указать его в 4м блоке)\n",
    "\n",
    "username = ''\n",
    "password = ''"
   ]
  },
  {
   "cell_type": "code",
   "execution_count": null,
   "metadata": {},
   "outputs": [],
   "source": [
    "s = requests.session()\n",
    "\n",
    "payload = {\n",
    "\"username\":username,\n",
    "\"password\":password,\n",
    "\"queryRedirectParams\":{\"response_type\":\"code\",\n",
    "                       \"client_id\":\"click-web\",\n",
    "                       \"scope\":\"openid click-web\",\n",
    "                       \"acr_values\":\"username\",\n",
    "                       \"non_authorized_user\":\"true\"},\n",
    "\"currentRoute\":\"/password\",\"captchaKey\":\"\"}\n",
    "resp = s.post('https://private.auth.alfabank.ru/passport/cerberus-mini-green/dashboard-green/api/oid/authorize', json=payload, verify=False)\n",
    "pprint(resp.json())\n",
    "mfa_token = resp.json()['params']['mfa_token']\n",
    "username = resp.json()['params']['username']"
   ]
  },
  {
   "cell_type": "code",
   "execution_count": null,
   "metadata": {},
   "outputs": [],
   "source": [
    "data = {\n",
    "    \"queryRedirectParams\":{\n",
    "        \"response_type\":\"code\",\n",
    "        \"client_id\":\"click-web\",\n",
    "        \"scope\":\"openid click-web\",\n",
    "        \"acr_values\":\"username\",\n",
    "        \"non_authorized_user\":\"true\"},\n",
    "    \"previousMultiFactorResponseParams\":{\n",
    "        \"redirect_uri\":\"https://click.alfabank.ru/openid/authorize/click-web\",\n",
    "        \"mfa_token\":mfa_token,\n",
    "        \"acr_values\":\"username:sms\",\n",
    "        \"client_id\":\"click-web\",\n",
    "        \"scope\":\"openid click-web\",\n",
    "        \"role\":\"client\",\n",
    "        \"username\":username},\n",
    "    \"is_push\":True,\n",
    "    \"type\":\"CARD\"}\n",
    "\n",
    "resp_ = s.post('https://private.auth.alfabank.ru/passport/cerberus-mini-green/dashboard-green/api/oid/reference', json=data, verify=False)\n",
    "\n",
    "pprint(resp_.json())\n",
    "reference = resp_.json()['reference']['reference']\n",
    "masked_phone = resp_.json()['reference']['masked_phone']"
   ]
  },
  {
   "cell_type": "code",
   "execution_count": null,
   "metadata": {},
   "outputs": [],
   "source": [
    "data = {\"credentials\":{\n",
    "            \"queryRedirectParams\":{\n",
    "                    \"response_type\":\"code\",\n",
    "                    \"client_id\":\"click-web\",\n",
    "                    \"scope\":\"openid click-web\",\n",
    "                    \"acr_values\":\"username\",\n",
    "                    \"non_authorized_user\":\"true\"},\n",
    "            \"previousMultiFactorResponseParams\":{\n",
    "                    \"redirect_uri\":\"https://click.alfabank.ru/openid/authorize/click-web\",\n",
    "                    \"mfa_token\":mfa_token,\n",
    "                    \"acr_values\":\"username:sms\",\n",
    "                    \"client_id\":\"click-web\",\n",
    "                    \"scope\":\"openid click-web\",\n",
    "                    \"role\":\"client\",\n",
    "                    \"username\":username,\n",
    "                    \"reference\":reference,\n",
    "                    \"masked_phone\":masked_phone},\n",
    "            \"is_push\":False,\n",
    "            \"type\":\"CARD\",\n",
    "            \"code\":\"0000\"}} ###############смс-код\n",
    "\n",
    "resp = s.post('https://private.auth.alfabank.ru/passport/cerberus-mini-green/dashboard-green/api/oid/finishCustomerRegistration', json=data, verify=False)\n",
    "pprint(resp.json())\n",
    "code = resp.json()['params']['code']\n",
    "expires_in = resp.json()['params']['expires_in']\n",
    "session_token = re.findall('session_token=(.+)&code', resp.json()['redirectUrl'])[0]"
   ]
  },
  {
   "cell_type": "code",
   "execution_count": null,
   "metadata": {},
   "outputs": [],
   "source": [
    "resp = s.get(f\"https://click.alfabank.ru/openid/authorize/click-web?redirect_uri=https%3A%2F%2Fclick.alfabank.ru%2Fopenid%2Fauthorize%2Fclick-web&mfa_token={mfa_token}&acr_values=username%3Asms&client_id=click-web&scope=openid+click-web&role=client&username={username}&reference={reference}&masked_phone={masked_phone}&session_token={session_token}&code={code}&expires_in={expires_in}&auth_type=LOGIN\", verify=False)\n",
    "GW_SESSION_CLICK = resp.request.headers['Cookie']"
   ]
  },
  {
   "cell_type": "code",
   "execution_count": null,
   "metadata": {},
   "outputs": [],
   "source": [
    "head = {'Cookie':GW_SESSION_CLICK}\n",
    "resp = s.get('https://click.alfabank.ru/pfm/hapi/export?dateFrom=2021-03-31T19%3A00%3A00.000Z&dateTo=2021-04-30T18%3A59%3A59.999Z', headers=head, verify=False).content\n",
    "data=pd.read_csv(io.BytesIO(resp), sep=\";\", parse_dates=['Дата'], dayfirst=True, index_col='Дата')"
   ]
  },
  {
   "cell_type": "code",
   "execution_count": null,
   "metadata": {},
   "outputs": [],
   "source": [
    "data"
   ]
  },
  {
   "cell_type": "code",
   "execution_count": null,
   "metadata": {},
   "outputs": [],
   "source": [
    "import matplotlib.pyplot as plt\n",
    "\n",
    "plt.style.use('ggplot')\n",
    "plt.rcParams['figure.figsize'] = (15, 5)"
   ]
  },
  {
   "cell_type": "code",
   "execution_count": null,
   "metadata": {},
   "outputs": [],
   "source": [
    "data['Сумма'].plot()"
   ]
  },
  {
   "cell_type": "code",
   "execution_count": null,
   "metadata": {},
   "outputs": [],
   "source": [
    "import plotly.graph_objects as go\n",
    "\n",
    "fig = go.Figure(data=[go.Pie(labels=data['Категория'], values=data['Сумма'], hole=.5, textinfo='label+percent')])\n",
    "fig.update_layout(title=f\"Расходы: {sum(data['Сумма'])}\")\n",
    "fig.show()"
   ]
  },
  {
   "cell_type": "code",
   "execution_count": null,
   "metadata": {},
   "outputs": [],
   "source": [
    "# pprint(data.to_dict('records'))\n",
    "df = data.to_dict('records')\n",
    "category=['', '']\n",
    "desc=['Доход', 'Расход']\n",
    "prof = 0\n",
    "exp = 0\n",
    "for i in df:\n",
    "    if i['Тип']=='Доход':\n",
    "        prof=prof+i['Сумма']\n",
    "    else:\n",
    "        exp=exp+i['Сумма']\n",
    "values = [prof, exp]\n",
    "for i in df:\n",
    "    if i['Категория'] not in desc:\n",
    "        desc.append(i['Категория'])\n",
    "        if i['Тип']=='Доход':\n",
    "            category.append('Доход')\n",
    "        else:\n",
    "            category.append('Расход')\n",
    "        summ = 0\n",
    "        for j in df:\n",
    "            if j['Категория']==i['Категория']:\n",
    "                summ=summ+j['Сумма']\n",
    "        values.append(summ)\n",
    "for i in df:\n",
    "    if i['Описание'] not in desc:\n",
    "        desc.append(i['Описание'])\n",
    "        category.append(i['Категория'])\n",
    "        summ = 0\n",
    "        for j in df:\n",
    "            if j['Описание']==i['Описание']:\n",
    "                summ=summ+j['Сумма']\n",
    "        values.append(summ)"
   ]
  },
  {
   "cell_type": "code",
   "execution_count": null,
   "metadata": {},
   "outputs": [],
   "source": [
    "import plotly.express as px\n",
    "data_cat = dict(desc=desc, category=category, values=values)\n",
    "fig =px.sunburst(\n",
    "    data_cat,\n",
    "    names='desc',\n",
    "    parents='category',\n",
    "    values='values'\n",
    ")\n",
    "fig.show()"
   ]
  }
 ],
 "metadata": {
  "kernelspec": {
   "display_name": "Python 3",
   "language": "python",
   "name": "python3"
  },
  "language_info": {
   "codemirror_mode": {
    "name": "ipython",
    "version": 3
   },
   "file_extension": ".py",
   "mimetype": "text/x-python",
   "name": "python",
   "nbconvert_exporter": "python",
   "pygments_lexer": "ipython3",
   "version": "3.8.0"
  }
 },
 "nbformat": 4,
 "nbformat_minor": 4
}
